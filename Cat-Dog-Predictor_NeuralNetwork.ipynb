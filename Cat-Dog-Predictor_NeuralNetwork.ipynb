{
 "cells": [
  {
   "cell_type": "code",
   "execution_count": 3,
   "metadata": {},
   "outputs": [],
   "source": [
    "from keras.models import Sequential # using sequential model\n",
    "from keras.layers import Conv2D # for the convolutional layers and 2D photographs\n",
    "from keras.layers import MaxPooling2D\n",
    "from keras.layers import Flatten # flatten image\n",
    "from keras.layers import Dense"
   ]
  },
  {
   "cell_type": "code",
   "execution_count": 4,
   "metadata": {},
   "outputs": [],
   "source": [
    "classifier = Sequential() # initialize neural network\n",
    "classifier.add(Conv2D(32,(3,3), input_shape = (64, 64, 3), activation = 'relu')) # create the input layer\n",
    "# input_shape is 64 x 64 pixels and each pixel has 3 values, reformat input_shape for larger pictures\n",
    "\n",
    "classifier.add(Conv2D(32, (3, 3), activation = 'relu'))\n",
    "classifier.add(MaxPooling2D(pool_size = (2,2))) # mapping data through layers and now we can reduce the data to two sets.\n",
    "\n"
   ]
  },
  {
   "cell_type": "code",
   "execution_count": 5,
   "metadata": {},
   "outputs": [],
   "source": [
    "classifier.add(Flatten()) # flatten to single dimensions\n",
    "\n",
    "classifier.add(Dense(units = 128, activation = 'relu')) # take the values that were flattened for this layer\n",
    "classifier.add(Dense(units = 1, activation = 'sigmoid')) # filter the data to a single output hence the unit is 1 (so its 0-1)\n",
    "\n"
   ]
  },
  {
   "cell_type": "code",
   "execution_count": 6,
   "metadata": {},
   "outputs": [],
   "source": [
    "classifier.compile(optimizer = 'adam', loss = 'binary_crossentropy', metrics = ['accuracy'])\n",
    "# compile the neural network, the optimizer is the reverse propagation, the loss and metrics compute the error"
   ]
  },
  {
   "cell_type": "code",
   "execution_count": 7,
   "metadata": {},
   "outputs": [],
   "source": [
    "from keras.preprocessing.image import ImageDataGenerator # process image data\n",
    "\n",
    "training_data_generator = ImageDataGenerator(rescale = 1./255, shear_range = 0.2, zoom_range = 0.2, horizontal_flip = True)\n",
    "# rescale, so the colurs are between 0 and 1"
   ]
  },
  {
   "cell_type": "code",
   "execution_count": 8,
   "metadata": {},
   "outputs": [
    {
     "name": "stdout",
     "output_type": "stream",
     "text": [
      "Found 25000 images belonging to 1 classes.\n"
     ]
    }
   ],
   "source": [
    "training_set = training_data_generator.flow_from_directory('C:\\\\Users\\\\Andreas\\\\Desktop\\\\PythonStuff\\\\Cat-Dog-Predictor\\\\trainData', target_size = (64,64), batch_size = 32, class_mode = 'binary')\n"
   ]
  },
  {
   "cell_type": "code",
   "execution_count": null,
   "metadata": {},
   "outputs": [
    {
     "name": "stdout",
     "output_type": "stream",
     "text": [
      "Found 12500 images belonging to 1 classes.\n"
     ]
    }
   ],
   "source": [
    "test_data_generator = ImageDataGenerator(rescale=1./255)\n",
    "\n",
    "test_set = training_data_generator.flow_from_directory('C:\\\\Users\\\\Andreas\\\\Desktop\\\\PythonStuff\\\\Cat-Dog-Predictor\\\\testData', target_size = (64,64), batch_size = 32, class_mode = 'binary')"
   ]
  },
  {
   "cell_type": "code",
   "execution_count": null,
   "metadata": {},
   "outputs": [
    {
     "name": "stdout",
     "output_type": "stream",
     "text": [
      "Epoch 1/15\n",
      "   3/4000 [..............................] - ETA: 1:45:48 - loss: 0.2378 - acc: 0.8021"
     ]
    }
   ],
   "source": [
    "classifier.fit_generator(training_set, steps_per_epoch = 4000, epochs = 15, validation_data = test_set, validation_steps = 100 )\n",
    "# go through each picture 4000 times, adjust values to change steps per epoch, epochs and the validation steps for training the neural network\n",
    "\n"
   ]
  },
  {
   "cell_type": "code",
   "execution_count": null,
   "metadata": {},
   "outputs": [],
   "source": [
    "import numpy as np\n",
    "from keras.preprocessing import image\n",
    "# make a prediction from a test image\n",
    "test_image = image.load_img('C:\\\\Users\\\\Andreas\\\\Desktop\\PythonStuff\\\\Cat-Dog-Predictor\\\\testData\\\\test1\\\\1.jpg',\n",
    "                            target_size = (64,64))\n",
    "\n",
    "test_image = image.img_to_array(test_image)\n",
    "test_image = np.expand_dims(test_image, axis = 0)\n",
    "result = classifier.predict(test_image)\n",
    "training_set.class_indices\n",
    "if result[0][0] == 1:\n",
    "    prediction = 'dog'\n",
    "else:\n",
    "    prediction = 'cat'\n",
    "    \n",
    "print(prediction)"
   ]
  },
  {
   "cell_type": "code",
   "execution_count": null,
   "metadata": {},
   "outputs": [],
   "source": []
  },
  {
   "cell_type": "code",
   "execution_count": null,
   "metadata": {},
   "outputs": [],
   "source": []
  },
  {
   "cell_type": "code",
   "execution_count": null,
   "metadata": {},
   "outputs": [],
   "source": []
  }
 ],
 "metadata": {
  "kernelspec": {
   "display_name": "Python 3",
   "language": "python",
   "name": "python3"
  },
  "language_info": {
   "codemirror_mode": {
    "name": "ipython",
    "version": 3
   },
   "file_extension": ".py",
   "mimetype": "text/x-python",
   "name": "python",
   "nbconvert_exporter": "python",
   "pygments_lexer": "ipython3",
   "version": "3.6.1"
  }
 },
 "nbformat": 4,
 "nbformat_minor": 2
}
